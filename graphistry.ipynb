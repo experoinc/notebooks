{
 "cells": [
  {
   "cell_type": "markdown",
   "metadata": {},
   "source": [
    "# Exporing Graph Datasets in Jupyter\n",
    "\n",
    "Juypter notebooks are perfect environments for both carrying out and capturing exporatory work. Even on moderate sizes datasets they provide an interactive environement that can drive both local and remote computational tasks.\n",
    "\n",
    "In this example, we will load a datatset using pandas, visualise it using the Graphistry graph service and import that into NetworkX so we can examine thje data and run analytics on the graph.\n",
    "\n",
    "### Python Package Network\n",
    "Our raw python module requriements data comes in the form of a csv, which we use pands to load and cresate a DataFrame for us. Each python module (Node) is related to another via a version number (Edge)"
   ]
  },
  {
   "cell_type": "code",
   "execution_count": 1,
   "metadata": {
    "collapsed": false
   },
   "outputs": [],
   "source": [
    "import pandas\n",
    "rawgraph = pandas.read_csv('./requirements.csv')"
   ]
  },
  {
   "cell_type": "markdown",
   "metadata": {},
   "source": [
    "We also print out the first 15 rows of the data and we can see it contains"
   ]
  },
  {
   "cell_type": "code",
   "execution_count": 2,
   "metadata": {
    "collapsed": false
   },
   "outputs": [
    {
     "name": "stdout",
     "output_type": "stream",
     "text": [
      "Number of Entries package            110104\n",
      "requirement         73773\n",
      "package_name       108872\n",
      "package_version    108872\n",
      "dtype: int64\n"
     ]
    },
    {
     "data": {
      "text/html": [
       "<div>\n",
       "<table border=\"1\" class=\"dataframe\">\n",
       "  <thead>\n",
       "    <tr style=\"text-align: right;\">\n",
       "      <th></th>\n",
       "      <th>package</th>\n",
       "      <th>requirement</th>\n",
       "      <th>package_name</th>\n",
       "      <th>package_version</th>\n",
       "    </tr>\n",
       "  </thead>\n",
       "  <tbody>\n",
       "    <tr>\n",
       "      <th>0</th>\n",
       "      <td>02exercicio-1.0.0</td>\n",
       "      <td>NaN</td>\n",
       "      <td>02exercicio</td>\n",
       "      <td>1.0.0</td>\n",
       "    </tr>\n",
       "    <tr>\n",
       "      <th>1</th>\n",
       "      <td>0x10c-asm-0.0.2</td>\n",
       "      <td>NaN</td>\n",
       "      <td>0x10c-asm</td>\n",
       "      <td>0.0.2</td>\n",
       "    </tr>\n",
       "    <tr>\n",
       "      <th>2</th>\n",
       "      <td>115wangpan-0.7.6</td>\n",
       "      <td>beautifulsoup4</td>\n",
       "      <td>115wangpan</td>\n",
       "      <td>0.7.6</td>\n",
       "    </tr>\n",
       "    <tr>\n",
       "      <th>3</th>\n",
       "      <td>115wangpan-0.7.6</td>\n",
       "      <td>homura</td>\n",
       "      <td>115wangpan</td>\n",
       "      <td>0.7.6</td>\n",
       "    </tr>\n",
       "    <tr>\n",
       "      <th>4</th>\n",
       "      <td>115wangpan-0.7.6</td>\n",
       "      <td>humanize</td>\n",
       "      <td>115wangpan</td>\n",
       "      <td>0.7.6</td>\n",
       "    </tr>\n",
       "    <tr>\n",
       "      <th>5</th>\n",
       "      <td>115wangpan-0.7.6</td>\n",
       "      <td>pycurl</td>\n",
       "      <td>115wangpan</td>\n",
       "      <td>0.7.6</td>\n",
       "    </tr>\n",
       "    <tr>\n",
       "      <th>6</th>\n",
       "      <td>115wangpan-0.7.6</td>\n",
       "      <td>pysocks</td>\n",
       "      <td>115wangpan</td>\n",
       "      <td>0.7.6</td>\n",
       "    </tr>\n",
       "    <tr>\n",
       "      <th>7</th>\n",
       "      <td>115wangpan-0.7.6</td>\n",
       "      <td>requests</td>\n",
       "      <td>115wangpan</td>\n",
       "      <td>0.7.6</td>\n",
       "    </tr>\n",
       "    <tr>\n",
       "      <th>8</th>\n",
       "      <td>115wangpan-0.7.6</td>\n",
       "      <td>six</td>\n",
       "      <td>115wangpan</td>\n",
       "      <td>0.7.6</td>\n",
       "    </tr>\n",
       "    <tr>\n",
       "      <th>9</th>\n",
       "      <td>131228_pytest_1-1.0.0</td>\n",
       "      <td>NaN</td>\n",
       "      <td>131228_pytest_1</td>\n",
       "      <td>1.0.0</td>\n",
       "    </tr>\n",
       "    <tr>\n",
       "      <th>10</th>\n",
       "      <td>1337-1.0.0</td>\n",
       "      <td>NaN</td>\n",
       "      <td>1337</td>\n",
       "      <td>1.0.0</td>\n",
       "    </tr>\n",
       "    <tr>\n",
       "      <th>11</th>\n",
       "      <td>17MonIP-0.2.7</td>\n",
       "      <td>NaN</td>\n",
       "      <td>17MonIP</td>\n",
       "      <td>0.2.7</td>\n",
       "    </tr>\n",
       "    <tr>\n",
       "      <th>12</th>\n",
       "      <td>199Fix-1.1.2</td>\n",
       "      <td>django</td>\n",
       "      <td>199Fix</td>\n",
       "      <td>1.1.2</td>\n",
       "    </tr>\n",
       "    <tr>\n",
       "      <th>13</th>\n",
       "      <td>1pass-0.2.1</td>\n",
       "      <td>NaN</td>\n",
       "      <td>1pass</td>\n",
       "      <td>0.2.1</td>\n",
       "    </tr>\n",
       "    <tr>\n",
       "      <th>14</th>\n",
       "      <td>1to001-0.3.0</td>\n",
       "      <td>NaN</td>\n",
       "      <td>1to001</td>\n",
       "      <td>0.3.0</td>\n",
       "    </tr>\n",
       "  </tbody>\n",
       "</table>\n",
       "</div>"
      ],
      "text/plain": [
       "                  package     requirement     package_name package_version\n",
       "0       02exercicio-1.0.0             NaN      02exercicio           1.0.0\n",
       "1         0x10c-asm-0.0.2             NaN        0x10c-asm           0.0.2\n",
       "2        115wangpan-0.7.6  beautifulsoup4       115wangpan           0.7.6\n",
       "3        115wangpan-0.7.6          homura       115wangpan           0.7.6\n",
       "4        115wangpan-0.7.6        humanize       115wangpan           0.7.6\n",
       "5        115wangpan-0.7.6          pycurl       115wangpan           0.7.6\n",
       "6        115wangpan-0.7.6         pysocks       115wangpan           0.7.6\n",
       "7        115wangpan-0.7.6        requests       115wangpan           0.7.6\n",
       "8        115wangpan-0.7.6             six       115wangpan           0.7.6\n",
       "9   131228_pytest_1-1.0.0             NaN  131228_pytest_1           1.0.0\n",
       "10             1337-1.0.0             NaN             1337           1.0.0\n",
       "11          17MonIP-0.2.7             NaN          17MonIP           0.2.7\n",
       "12           199Fix-1.1.2          django           199Fix           1.1.2\n",
       "13            1pass-0.2.1             NaN            1pass           0.2.1\n",
       "14           1to001-0.3.0             NaN           1to001           0.3.0"
      ]
     },
     "execution_count": 2,
     "metadata": {},
     "output_type": "execute_result"
    }
   ],
   "source": [
    "print('Number of Entries', rawgraph.count())\n",
    "rawgraph.head(15)"
   ]
  },
  {
   "cell_type": "markdown",
   "metadata": {},
   "source": [
    "We notice straight away that our dataset has some NaN values for packages that have no requirements, this is a shortcoming of our dataset and we want to prevent those NaN's from propagating.\n",
    "\n",
    "There are a few ways to handle this depending on whether we want to preserve the nodes in the graph or not, in this example we'll just drop that data using pandas."
   ]
  },
  {
   "cell_type": "code",
   "execution_count": 3,
   "metadata": {
    "collapsed": false
   },
   "outputs": [
    {
     "data": {
      "text/html": [
       "<div>\n",
       "<table border=\"1\" class=\"dataframe\">\n",
       "  <thead>\n",
       "    <tr style=\"text-align: right;\">\n",
       "      <th></th>\n",
       "      <th>package</th>\n",
       "      <th>requirement</th>\n",
       "      <th>package_name</th>\n",
       "      <th>package_version</th>\n",
       "    </tr>\n",
       "  </thead>\n",
       "  <tbody>\n",
       "    <tr>\n",
       "      <th>2</th>\n",
       "      <td>115wangpan-0.7.6</td>\n",
       "      <td>beautifulsoup4</td>\n",
       "      <td>115wangpan</td>\n",
       "      <td>0.7.6</td>\n",
       "    </tr>\n",
       "    <tr>\n",
       "      <th>3</th>\n",
       "      <td>115wangpan-0.7.6</td>\n",
       "      <td>homura</td>\n",
       "      <td>115wangpan</td>\n",
       "      <td>0.7.6</td>\n",
       "    </tr>\n",
       "    <tr>\n",
       "      <th>4</th>\n",
       "      <td>115wangpan-0.7.6</td>\n",
       "      <td>humanize</td>\n",
       "      <td>115wangpan</td>\n",
       "      <td>0.7.6</td>\n",
       "    </tr>\n",
       "    <tr>\n",
       "      <th>5</th>\n",
       "      <td>115wangpan-0.7.6</td>\n",
       "      <td>pycurl</td>\n",
       "      <td>115wangpan</td>\n",
       "      <td>0.7.6</td>\n",
       "    </tr>\n",
       "    <tr>\n",
       "      <th>6</th>\n",
       "      <td>115wangpan-0.7.6</td>\n",
       "      <td>pysocks</td>\n",
       "      <td>115wangpan</td>\n",
       "      <td>0.7.6</td>\n",
       "    </tr>\n",
       "    <tr>\n",
       "      <th>7</th>\n",
       "      <td>115wangpan-0.7.6</td>\n",
       "      <td>requests</td>\n",
       "      <td>115wangpan</td>\n",
       "      <td>0.7.6</td>\n",
       "    </tr>\n",
       "    <tr>\n",
       "      <th>8</th>\n",
       "      <td>115wangpan-0.7.6</td>\n",
       "      <td>six</td>\n",
       "      <td>115wangpan</td>\n",
       "      <td>0.7.6</td>\n",
       "    </tr>\n",
       "    <tr>\n",
       "      <th>12</th>\n",
       "      <td>199Fix-1.1.2</td>\n",
       "      <td>django</td>\n",
       "      <td>199Fix</td>\n",
       "      <td>1.1.2</td>\n",
       "    </tr>\n",
       "    <tr>\n",
       "      <th>16</th>\n",
       "      <td>2factorcli-1.1.3</td>\n",
       "      <td>docopt</td>\n",
       "      <td>2factorcli</td>\n",
       "      <td>1.1.3</td>\n",
       "    </tr>\n",
       "    <tr>\n",
       "      <th>17</th>\n",
       "      <td>2factorcli-1.1.3</td>\n",
       "      <td>onetimepass</td>\n",
       "      <td>2factorcli</td>\n",
       "      <td>1.1.3</td>\n",
       "    </tr>\n",
       "    <tr>\n",
       "      <th>18</th>\n",
       "      <td>2factorcli-1.1.3</td>\n",
       "      <td>python-gnupg</td>\n",
       "      <td>2factorcli</td>\n",
       "      <td>1.1.3</td>\n",
       "    </tr>\n",
       "    <tr>\n",
       "      <th>19</th>\n",
       "      <td>2lazy2rest-0.1.0</td>\n",
       "      <td>docutils</td>\n",
       "      <td>2lazy2rest</td>\n",
       "      <td>0.1.0</td>\n",
       "    </tr>\n",
       "    <tr>\n",
       "      <th>20</th>\n",
       "      <td>2mp3-0.1.0</td>\n",
       "      <td>envoy</td>\n",
       "      <td>2mp3</td>\n",
       "      <td>0.1.0</td>\n",
       "    </tr>\n",
       "    <tr>\n",
       "      <th>24</th>\n",
       "      <td>3d-wallet-generator-0.2.0</td>\n",
       "      <td>bitcoin</td>\n",
       "      <td>3d-wallet-generator</td>\n",
       "      <td>0.2.0</td>\n",
       "    </tr>\n",
       "    <tr>\n",
       "      <th>25</th>\n",
       "      <td>3d-wallet-generator-0.2.0</td>\n",
       "      <td>pyqrcode</td>\n",
       "      <td>3d-wallet-generator</td>\n",
       "      <td>0.2.0</td>\n",
       "    </tr>\n",
       "  </tbody>\n",
       "</table>\n",
       "</div>"
      ],
      "text/plain": [
       "                      package     requirement         package_name  \\\n",
       "2            115wangpan-0.7.6  beautifulsoup4           115wangpan   \n",
       "3            115wangpan-0.7.6          homura           115wangpan   \n",
       "4            115wangpan-0.7.6        humanize           115wangpan   \n",
       "5            115wangpan-0.7.6          pycurl           115wangpan   \n",
       "6            115wangpan-0.7.6         pysocks           115wangpan   \n",
       "7            115wangpan-0.7.6        requests           115wangpan   \n",
       "8            115wangpan-0.7.6             six           115wangpan   \n",
       "12               199Fix-1.1.2          django               199Fix   \n",
       "16           2factorcli-1.1.3          docopt           2factorcli   \n",
       "17           2factorcli-1.1.3     onetimepass           2factorcli   \n",
       "18           2factorcli-1.1.3    python-gnupg           2factorcli   \n",
       "19           2lazy2rest-0.1.0        docutils           2lazy2rest   \n",
       "20                 2mp3-0.1.0           envoy                 2mp3   \n",
       "24  3d-wallet-generator-0.2.0         bitcoin  3d-wallet-generator   \n",
       "25  3d-wallet-generator-0.2.0        pyqrcode  3d-wallet-generator   \n",
       "\n",
       "   package_version  \n",
       "2            0.7.6  \n",
       "3            0.7.6  \n",
       "4            0.7.6  \n",
       "5            0.7.6  \n",
       "6            0.7.6  \n",
       "7            0.7.6  \n",
       "8            0.7.6  \n",
       "12           1.1.2  \n",
       "16           1.1.3  \n",
       "17           1.1.3  \n",
       "18           1.1.3  \n",
       "19           0.1.0  \n",
       "20           0.1.0  \n",
       "24           0.2.0  \n",
       "25           0.2.0  "
      ]
     },
     "execution_count": 3,
     "metadata": {},
     "output_type": "execute_result"
    }
   ],
   "source": [
    "rawgraph.dropna(inplace=True)\n",
    "rawgraph.head(15)"
   ]
  },
  {
   "cell_type": "markdown",
   "metadata": {},
   "source": [
    "## Visualizing the Graph\n",
    "\n",
    "Efficient visualiations of anything but small graphs can be challenging in a local python environment, there are multiple ways around this but here we'll use a libreary and cloud based service called Graphisty.\n",
    "\n",
    "First we'll start up Graphistry using our API key in order to access the cloud based rendering service."
   ]
  },
  {
   "cell_type": "code",
   "execution_count": 4,
   "metadata": {
    "collapsed": false
   },
   "outputs": [
    {
     "name": "stdout",
     "output_type": "stream",
     "text": [
      "A new version of PyGraphistry is available (installed=0.9.43 latest=0.9.49).\n"
     ]
    }
   ],
   "source": [
    "from os import environ\n",
    "from dotenv import load_dotenv, find_dotenv\n",
    "import graphistry\n",
    "\n",
    "load_dotenv(find_dotenv())\n",
    "graphistry.register(key=environ.get(\"GRAPHISTRY_API_KEY\"))"
   ]
  },
  {
   "cell_type": "markdown",
   "metadata": {},
   "source": [
    "Next we'll plot the raw graph. Graphistry provides an awesome interactive plot widget in Juypter that of couerse allows us to interact with the graph itself but have more options. If you have tiome to play check out in particular:\n",
    "\n",
    "- Full screen mode\n",
    "- Layout settings (via the cogs icon)\n",
    "- Histograms and Data Table\n",
    "- The Workbook which launches an cloud based instance of Graphistry outside of Jupyter\n",
    "- Visual Clustering!"
   ]
  },
  {
   "cell_type": "code",
   "execution_count": 5,
   "metadata": {
    "collapsed": false
   },
   "outputs": [
    {
     "data": {
      "text/html": [
       "\n",
       "            <iframe id=\"9d7ad0fd-f98d-4ada-890c-ce3b854c874f\" src=\"https://labs.graphistry.com/graph/graph.html?dataset=PyGraphistry/PR4IMA1W2F&type=vgraph&viztoken=96e467250c54ec93bd4d832f5c717b4478e2da48&usertag=de5f6289-pygraphistry-0.9.43&splashAfter=1507562821&info=true\"\n",
       "                    allowfullscreen=\"true\" webkitallowfullscreen=\"true\" mozallowfullscreen=\"true\"\n",
       "                    oallowfullscreen=\"true\" msallowfullscreen=\"true\"\n",
       "                    style=\"width:100%; height:500px; border: 1px solid #DDD\">\n",
       "            </iframe>\n",
       "        \n",
       "            <script>\n",
       "                $(\"#9d7ad0fd-f98d-4ada-890c-ce3b854c874f\").bind('mousewheel', function(e) {\n",
       "                e.preventDefault();\n",
       "                });\n",
       "            </script>\n",
       "        "
      ],
      "text/plain": [
       "<IPython.core.display.HTML object>"
      ]
     },
     "execution_count": 5,
     "metadata": {},
     "output_type": "execute_result"
    }
   ],
   "source": [
    "plotter = graphistry.bind(source=\"requirement\", destination=\"package_name\")\n",
    "plotter.plot(rawgraph)"
   ]
  },
  {
   "cell_type": "markdown",
   "metadata": {},
   "source": [
    "Next we'll load our raw graph data into a NetworkX graph and run some analytics on the network. This dataset is heavily weighted by packages with a few requirements. Note: We are loading this as a DirectedGraph which will allow the direction of dependencies to be preserved."
   ]
  },
  {
   "cell_type": "code",
   "execution_count": 130,
   "metadata": {
    "collapsed": false
   },
   "outputs": [
    {
     "name": "stdout",
     "output_type": "stream",
     "text": [
      "Nodes: 26234\n",
      "Edges: 72252\n"
     ]
    }
   ],
   "source": [
    "import networkx as nx\n",
    "G = nx.from_pandas_dataframe(rawgraph, 'package_name', 'requirement', \n",
    "                             edge_attr='package_version', create_using=nx.DiGraph())\n",
    "print('Nodes:', G.number_of_nodes())\n",
    "print('Edges:', G.number_of_edges())"
   ]
  },
  {
   "cell_type": "code",
   "execution_count": 131,
   "metadata": {
    "collapsed": false
   },
   "outputs": [
    {
     "data": {
      "image/png": "[encoded data removed]",
      "text/plain": [
       "<matplotlib.figure.Figure at 0x112f446d8>"
      ]
     },
     "metadata": {},
     "output_type": "display_data"
    }
   ],
   "source": [
    "import numpy as np\n",
    "import matplotlib.pyplot as plt\n",
    "\n",
    "degrees = np.array(nx.degree_histogram(G))\n",
    "\n",
    "plt.bar(range(1,20), degrees[1:20])\n",
    "plt.xlabel('# requirements')\n",
    "plt.ylabel('# packages')\n",
    "plt.title('Degree - Dependencies per Package')\n",
    "plt.grid(True)\n",
    "plt.show()"
   ]
  },
  {
   "cell_type": "markdown",
   "metadata": {},
   "source": [
    "We can see this network is dominated with packages with a single requirement, accounting for 37% of the nodes."
   ]
  },
  {
   "cell_type": "code",
   "execution_count": 132,
   "metadata": {
    "collapsed": false
   },
   "outputs": [
    {
     "name": "stdout",
     "output_type": "stream",
     "text": [
      "% of packages with only 1 requirement 37.0% , 9707 packages total\n"
     ]
    }
   ],
   "source": [
    "print('% of packages with only 1 requirement', \n",
    "      '{:.1f}%'.format(100 * degrees[1] / G.number_of_nodes()), ',', degrees[1], 'packages total')"
   ]
  },
  {
   "cell_type": "code",
   "execution_count": 133,
   "metadata": {
    "collapsed": false
   },
   "outputs": [
    {
     "name": "stdout",
     "output_type": "stream",
     "text": [
      "requests\n",
      "The package with most requirements is > requests < having a total of 3081 first order dependencies\n"
     ]
    }
   ],
   "source": [
    "highestDegree = len(degrees) - 1\n",
    "nodesByDegree = G.degree()\n",
    "\n",
    "mostConnectedNode = [n for n in nodesByDegree if nodesByDegree[n] == highestDegree][0]\n",
    "\n",
    "print(mostConnectedNode)\n",
    "\n",
    "print('The package with most requirements is >',mostConnectedNode,\n",
    "      '< having a total of', len(degrees), 'first order dependencies')"
   ]
  },
  {
   "cell_type": "markdown",
   "metadata": {},
   "source": [
    "However, we are looking at all connections to requests in this directed graph, so this is a combination of it's dependencies and packages that are dependent on it. We can see how that is split by looking at the in and out degree."
   ]
  },
  {
   "cell_type": "code",
   "execution_count": 134,
   "metadata": {
    "collapsed": false
   },
   "outputs": [
    {
     "name": "stdout",
     "output_type": "stream",
     "text": [
      "Depencencies: 6\n",
      "Dependants: 3074\n"
     ]
    }
   ],
   "source": [
    "print('Depencencies:', G.out_degree([mostConnectedNode])[mostConnectedNode])\n",
    "print('Dependants:', G.in_degree([mostConnectedNode])[mostConnectedNode])"
   ]
  },
  {
   "cell_type": "markdown",
   "metadata": {},
   "source": [
    "So rather than having a lot of requirements, we've discovered that `requests` actually has few requirements and is instead a heavily used module. we can take a closer look by extracting a sub-graph of `requests`' immedate neighbours and visualising this."
   ]
  },
  {
   "cell_type": "code",
   "execution_count": 147,
   "metadata": {
    "collapsed": false
   },
   "outputs": [
    {
     "name": "stderr",
     "output_type": "stream",
     "text": [
      "WARNING:  \"node\" is unbound, automatically binding it to \"__nodeid__\".\n"
     ]
    },
    {
     "data": {
      "text/html": [
       "\n",
       "            <iframe id=\"f18a8434-9c7e-4b41-8488-4157346ceb70\" src=\"https://labs.graphistry.com/graph/graph.html?dataset=PyGraphistry/NSY93ZNY3P&type=vgraph&viztoken=b1435438c48e40d8fade9a93886eb2e636ed0721&usertag=def3c61c-pygraphistry-0.9.43&splashAfter=1496072391&info=true\"\n",
       "                    allowfullscreen=\"true\" webkitallowfullscreen=\"true\" mozallowfullscreen=\"true\"\n",
       "                    oallowfullscreen=\"true\" msallowfullscreen=\"true\"\n",
       "                    style=\"width:100%; height:500px; border: 1px solid #DDD\">\n",
       "            </iframe>\n",
       "        \n",
       "            <script>\n",
       "                $(\"#f18a8434-9c7e-4b41-8488-4157346ceb70\").bind('mousewheel', function(e) {\n",
       "                e.preventDefault();\n",
       "                });\n",
       "            </script>\n",
       "        "
      ],
      "text/plain": [
       "<IPython.core.display.HTML object>"
      ]
     },
     "execution_count": 147,
     "metadata": {},
     "output_type": "execute_result"
    }
   ],
   "source": [
    "R = G.subgraph([mostConnectedNode]+G.neighbors(mostConnectedNode)+G.predecessors(mostConnectedNode))\n",
    "graphistry.bind(source=\"requirement\", destination=\"package_name\").plot(R)"
   ]
  },
  {
   "cell_type": "markdown",
   "metadata": {},
   "source": [
    "Note the visualizaton above was created by plotting the sub graph then using Grapistry's Visual Clustering to do its stuff."
   ]
  },
  {
   "cell_type": "code",
   "execution_count": null,
   "metadata": {
    "collapsed": true
   },
   "outputs": [],
   "source": []
  }
 ],
 "metadata": {
  "anaconda-cloud": {},
  "kernelspec": {
   "display_name": "Python [conda root]",
   "language": "python",
   "name": "conda-root-py"
  },
  "language_info": {
   "codemirror_mode": {
    "name": "ipython",
    "version": 3
   },
   "file_extension": ".py",
   "mimetype": "text/x-python",
   "name": "python",
   "nbconvert_exporter": "python",
   "pygments_lexer": "ipython3",
   "version": "3.5.2"
  }
 },
 "nbformat": 4,
 "nbformat_minor": 1
}
